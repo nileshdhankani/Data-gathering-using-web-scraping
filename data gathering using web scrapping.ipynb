{
  "nbformat": 4,
  "nbformat_minor": 0,
  "metadata": {
    "colab": {
      "provenance": []
    },
    "kernelspec": {
      "name": "python3",
      "display_name": "Python 3"
    },
    "language_info": {
      "name": "python"
    }
  },
  "cells": [
    {
      "cell_type": "markdown",
      "source": [
        "### Import Libraries"
      ],
      "metadata": {
        "id": "OypLRmRLem5o"
      }
    },
    {
      "cell_type": "code",
      "execution_count": null,
      "metadata": {
        "id": "BEku0OwBdyeA"
      },
      "outputs": [],
      "source": [
        "import pandas as pd\n",
        "import requests\n",
        "from bs4 import BeautifulSoup"
      ]
    },
    {
      "cell_type": "markdown",
      "source": [
        "###Import Webpage"
      ],
      "metadata": {
        "id": "NKue11fbe0Dr"
      }
    },
    {
      "cell_type": "code",
      "source": [
        "headers={'User-Agent':'Mozilla/5.0 (Windows NT 6.3; Win 64 ; x64) Apple WeKit /537.36(KHTML , like Gecko) Chrome/80.0.3987.162 Safari/537.36'}\n",
        "webpage=requests.get('https://www.ambitionbox.com/list-of-companies',headers=headers).text"
      ],
      "metadata": {
        "id": "prYsZXO3e2o-"
      },
      "execution_count": null,
      "outputs": []
    },
    {
      "cell_type": "markdown",
      "source": [
        "### Define “Soup” as BeautifulSoup Library"
      ],
      "metadata": {
        "id": "IHARh7XZfA09"
      }
    },
    {
      "cell_type": "code",
      "source": [
        "soup=BeautifulSoup(webpage,'lxml')"
      ],
      "metadata": {
        "id": "WIXVIcHRfC27"
      },
      "execution_count": null,
      "outputs": []
    },
    {
      "cell_type": "markdown",
      "source": [
        "### Use Print"
      ],
      "metadata": {
        "id": "-YuCzpxWfFw7"
      }
    },
    {
      "cell_type": "code",
      "source": [
        "#print(soup.prettify())"
      ],
      "metadata": {
        "id": "0lGN2axWfIVC"
      },
      "execution_count": null,
      "outputs": []
    },
    {
      "cell_type": "markdown",
      "source": [
        "### Extract the heading line"
      ],
      "metadata": {
        "id": "IJRN5us7fN_X"
      }
    },
    {
      "cell_type": "code",
      "source": [
        "for n in soup.find_all('h1'):\n",
        "  print(n.text.strip())"
      ],
      "metadata": {
        "colab": {
          "base_uri": "https://localhost:8080/"
        },
        "id": "AYxxtbdQfPs_",
        "outputId": "01cdc454-a581-4a52-f13e-a3352ae5bfb4"
      },
      "execution_count": null,
      "outputs": [
        {
          "output_type": "stream",
          "name": "stdout",
          "text": [
            "List of companies in India\n"
          ]
        }
      ]
    },
    {
      "cell_type": "markdown",
      "source": [
        "### Extract the Company Name"
      ],
      "metadata": {
        "id": "owWIGUowfT4v"
      }
    },
    {
      "cell_type": "code",
      "source": [
        "for i in soup.find_all('h2'):\n",
        "  print(i.text.strip())"
      ],
      "metadata": {
        "id": "czC8K2QdfWz2",
        "colab": {
          "base_uri": "https://localhost:8080/"
        },
        "outputId": "3ff0b8e3-7196-4b8d-e099-f30fad5e9cf9"
      },
      "execution_count": null,
      "outputs": [
        {
          "output_type": "stream",
          "name": "stdout",
          "text": [
            "TCS\n",
            "Accenture\n",
            "Cognizant\n",
            "Wipro\n",
            "Capgemini\n",
            "HDFC Bank\n",
            "ICICI Bank\n",
            "Infosys\n",
            "HCLTech\n",
            "Tech Mahindra\n",
            "Genpact\n",
            "Axis Bank\n",
            "Teleperformance\n",
            "Concentrix Corporation\n",
            "Jio\n",
            "Amazon\n",
            "IBM\n",
            "Reliance Retail\n",
            "HDB Financial Services\n",
            "Larsen & Toubro Limited\n",
            "Companies by  Industry\n",
            "Companies by  Locations\n",
            "Companies by  Type\n",
            "Companies by  Badges\n"
          ]
        }
      ]
    },
    {
      "cell_type": "markdown",
      "source": [
        "###Extract the rating value"
      ],
      "metadata": {
        "id": "TPgVT6L4fb-h"
      }
    },
    {
      "cell_type": "code",
      "source": [
        "for k in soup.find_all('span',class_='companyCardWrapper__companyRatingValue'):\n",
        "  print(k.text.strip())"
      ],
      "metadata": {
        "id": "zimzuOVwfdeb",
        "colab": {
          "base_uri": "https://localhost:8080/"
        },
        "outputId": "e2b21d6b-d0f8-4429-aa95-e548df550f7c"
      },
      "execution_count": null,
      "outputs": [
        {
          "output_type": "stream",
          "name": "stdout",
          "text": [
            "3.8\n",
            "4.0\n",
            "3.9\n",
            "3.8\n",
            "3.8\n",
            "4.0\n",
            "4.0\n",
            "3.8\n",
            "3.7\n",
            "3.7\n",
            "3.9\n",
            "3.9\n",
            "3.7\n",
            "3.9\n",
            "4.0\n",
            "4.1\n",
            "4.1\n",
            "4.0\n",
            "4.0\n",
            "4.1\n"
          ]
        }
      ]
    },
    {
      "cell_type": "markdown",
      "source": [
        "###Extract the all card details"
      ],
      "metadata": {
        "id": "2T_F4xFlfhwy"
      }
    },
    {
      "cell_type": "code",
      "source": [
        "for j in soup.find_all('span',class_='companyCardWrapper__interLinking'):\n",
        "  print(j.text.strip())"
      ],
      "metadata": {
        "id": "LC-wbO5IflY1",
        "colab": {
          "base_uri": "https://localhost:8080/"
        },
        "outputId": "53046d8d-f8eb-49cc-9b0a-366e47966901"
      },
      "execution_count": null,
      "outputs": [
        {
          "output_type": "stream",
          "name": "stdout",
          "text": [
            "IT Services & Consulting | 1 Lakh+ Employees | Public | 56 years old | Mumbai +349 more\n",
            "IT Services & Consulting | 1 Lakh+ Employees | Public | 35 years old | Dublin +181 more\n",
            "IT Services & Consulting | 1 Lakh+ Employees | Forbes Global 2000 | 30 years old | Teaneck. New Jersey. +169 more\n",
            "IT Services & Consulting | 1 Lakh+ Employees | Public | 79 years old | Bangalore/Bengaluru +278 more\n",
            "IT Services & Consulting | 1 Lakh+ Employees | Public | 57 years old | Paris +144 more\n",
            "Banking | 1 Lakh+ Employees | Public | 30 years old | Mumbai +1561 more\n",
            "Banking | 1 Lakh+ Employees | Public | 30 years old | Mumbai +1296 more\n",
            "IT Services & Consulting | 1 Lakh+ Employees | Public | 43 years old | Bengaluru/Bangalore +182 more\n",
            "IT Services & Consulting | 1 Lakh+ Employees | Public | 33 years old | Noida +183 more\n",
            "IT Services & Consulting | 1 Lakh+ Employees | Public | 38 years old | Pune +273 more\n",
            "IT Services & Consulting | 1 Lakh+ Employees | Public | 27 years old | New York +112 more\n",
            "Banking | 50k-1 Lakh Employees | Public | 31 years old | Mumbai +1317 more\n",
            "BPO | 50k-1 Lakh Employees | Forbes Global 2000 | 46 years old | Paris +191 more\n",
            "BPO | 50k-1 Lakh Employees | Public | 41 years old | Fremont +119 more\n",
            "Telecom | 50k-1 Lakh Employees | Public | 6 years old | Navi Mumbai +1177 more\n",
            "Internet | 1 Lakh+ Employees | Public | 30 years old | Seattle +456 more\n",
            "IT Services & Consulting | 1 Lakh+ Employees | Public | 113 years old | Armonk +149 more\n",
            "Retail | 1 Lakh+ Employees | 18 years old | Navi Mumbai +1013 more\n",
            "NBFC | 1 Lakh+ Employees | 17 years old | Ahmedabad +962 more\n",
            "Engineering & Construction | 10k-50k Employees | Public | 86 years old | Mumbai +629 more\n"
          ]
        }
      ]
    }
  ]
}